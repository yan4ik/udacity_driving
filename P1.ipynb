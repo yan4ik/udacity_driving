{
 "cells": [
  {
   "cell_type": "markdown",
   "metadata": {},
   "source": [
    "# **Finding Lane Lines on the Road** \n",
    "***\n",
    "In this project, you will use the tools you learned about in the lesson to identify lane lines on the road.  You can develop your pipeline on a series of individual images, and later apply the result to a video stream (really just a series of images). Check out the video clip \"raw-lines-example.mp4\" (also contained in this repository) to see what the output should look like after using the helper functions below. \n",
    "\n",
    "Once you have a result that looks roughly like \"raw-lines-example.mp4\", you'll need to get creative and try to average and/or extrapolate the line segments you've detected to map out the full extent of the lane lines.  You can see an example of the result you're going for in the video \"P1_example.mp4\".  Ultimately, you would like to draw just one line for the left side of the lane, and one for the right.\n",
    "\n",
    "---\n",
    "Let's have a look at our first image called 'test_images/solidWhiteRight.jpg'.  Run the 2 cells below (hit Shift-Enter or the \"play\" button above) to display the image.\n",
    "\n",
    "**Note** If, at any point, you encounter frozen display windows or other confounding issues, you can always start again with a clean slate by going to the \"Kernel\" menu above and selecting \"Restart & Clear Output\".\n",
    "\n",
    "---"
   ]
  },
  {
   "cell_type": "markdown",
   "metadata": {},
   "source": [
    "**The tools you have are color selection, region of interest selection, grayscaling, Gaussian smoothing, Canny Edge Detection and Hough Tranform line detection.  You  are also free to explore and try other techniques that were not presented in the lesson.  Your goal is piece together a pipeline to detect the line segments in the image, then average/extrapolate them and draw them onto the image for display (as below).  Once you have a working pipeline, try it out on the video stream below.**\n",
    "\n",
    "---\n",
    "\n",
    "<figure>\n",
    " <img src=\"line-segments-example.jpg\" width=\"380\" alt=\"Combined Image\" />\n",
    " <figcaption>\n",
    " <p></p> \n",
    " <p style=\"text-align: center;\"> Your output should look something like this (above) after detecting line segments using the helper functions below </p> \n",
    " </figcaption>\n",
    "</figure>\n",
    " <p></p> \n",
    "<figure>\n",
    " <img src=\"laneLines_thirdPass.jpg\" width=\"380\" alt=\"Combined Image\" />\n",
    " <figcaption>\n",
    " <p></p> \n",
    " <p style=\"text-align: center;\"> Your goal is to connect/average/extrapolate line segments to get output like this</p> \n",
    " </figcaption>\n",
    "</figure>"
   ]
  },
  {
   "cell_type": "code",
   "execution_count": null,
   "metadata": {
    "collapsed": false
   },
   "outputs": [],
   "source": [
    "#importing some useful packages\n",
    "import matplotlib.pyplot as plt\n",
    "import matplotlib.image as mpimg\n",
    "import numpy as np\n",
    "import cv2\n",
    "%matplotlib inline"
   ]
  },
  {
   "cell_type": "code",
   "execution_count": null,
   "metadata": {
    "collapsed": false
   },
   "outputs": [],
   "source": [
    "#reading in an image\n",
    "image = mpimg.imread('test_images/solidWhiteRight.jpg')\n",
    "#printing out some stats and plotting\n",
    "print('This image is:', type(image), 'with dimesions:', image.shape)\n",
    "plt.imshow(image)  #call as plt.imshow(gray, cmap='gray') to show a grayscaled image"
   ]
  },
  {
   "cell_type": "markdown",
   "metadata": {},
   "source": [
    "**Some OpenCV functions (beyond those introduced in the lesson) that might be useful for this project are:**\n",
    "\n",
    "`cv2.inRange()` for color selection  \n",
    "`cv2.fillPoly()` for regions selection  \n",
    "`cv2.line()` to draw lines on an image given endpoints  \n",
    "`cv2.addWeighted()` to coadd / overlay two images\n",
    "`cv2.cvtColor()` to grayscale or change color\n",
    "`cv2.imwrite()` to output images to file  \n",
    "`cv2.bitwise_and()` to apply a mask to an image\n",
    "\n",
    "**Check out the OpenCV documentation to learn about these and discover even more awesome functionality!**"
   ]
  },
  {
   "cell_type": "markdown",
   "metadata": {},
   "source": [
    "Below are some helper functions to help get you started. They should look familiar from the lesson!"
   ]
  },
  {
   "cell_type": "code",
   "execution_count": null,
   "metadata": {
    "collapsed": true
   },
   "outputs": [],
   "source": [
    "import math\n",
    "\n",
    "def grayscale(img):\n",
    "    \"\"\"Applies the Grayscale transform\n",
    "    This will return an image with only one color channel\n",
    "    but NOTE: to see the returned image as grayscale\n",
    "    you should call plt.imshow(gray, cmap='gray')\"\"\"\n",
    "    return cv2.cvtColor(img, cv2.COLOR_BGR2GRAY)\n",
    "    \n",
    "def canny(img, low_threshold, high_threshold):\n",
    "    \"\"\"Applies the Canny transform\"\"\"\n",
    "    return cv2.Canny(img, low_threshold, high_threshold)\n",
    "\n",
    "def gaussian_blur(img, kernel_size):\n",
    "    \"\"\"Applies a Gaussian Noise kernel\"\"\"\n",
    "    return cv2.GaussianBlur(img, (kernel_size, kernel_size), 15)\n",
    "\n",
    "def region_of_interest(img, vertices):\n",
    "    \"\"\"\n",
    "    Applies an image mask.\n",
    "    \n",
    "    Only keeps the region of the image defined by the polygon\n",
    "    formed from `vertices`. The rest of the image is set to black.\n",
    "    \"\"\"\n",
    "    #defining a blank mask to start with\n",
    "    mask = np.zeros_like(img)   \n",
    "    \n",
    "    #defining a 3 channel or 1 channel color to fill the mask with depending on the input image\n",
    "    if len(img.shape) > 2:\n",
    "        channel_count = img.shape[2]  # i.e. 3 or 4 depending on your image\n",
    "        ignore_mask_color = (255,) * channel_count\n",
    "    else:\n",
    "        ignore_mask_color = 255\n",
    "        \n",
    "    #filling pixels inside the polygon defined by \"vertices\" with the fill color    \n",
    "    cv2.fillPoly(mask, vertices, ignore_mask_color)\n",
    "    \n",
    "    #returning the image only where mask pixels are nonzero\n",
    "    masked_image = cv2.bitwise_and(img, mask)\n",
    "    return masked_image\n",
    "\n",
    "\n",
    "def draw_lines(img, lines, color=[255, 0, 0], thickness=2):\n",
    "    \"\"\"\n",
    "    NOTE: this is the function you might want to use as a starting point once you want to \n",
    "    average/extrapolate the line segments you detect to map out the full\n",
    "    extent of the lane (going from the result shown in raw-lines-example.mp4\n",
    "    to that shown in P1_example.mp4).  \n",
    "    \n",
    "    Think about things like separating line segments by their \n",
    "    slope ((y2-y1)/(x2-x1)) to decide which segments are part of the left\n",
    "    line vs. the right line.  Then, you can average the position of each of \n",
    "    the lines and extrapolate to the top and bottom of the lane.\n",
    "    \n",
    "    This function draws `lines` with `color` and `thickness`.    \n",
    "    Lines are drawn on the image inplace (mutates the image).\n",
    "    If you want to make the lines semi-transparent, think about combining\n",
    "    this function with the weighted_img() function below\n",
    "    \"\"\"\n",
    "    for line in lines:\n",
    "        for x1,y1,x2,y2 in line:\n",
    "            cv2.line(img, (x1, y1), (x2, y2), color, thickness)\n",
    "\n",
    "def hough_lines(img, rho, theta, threshold, min_line_len, max_line_gap):\n",
    "    \"\"\"\n",
    "    `img` should be the output of a Canny transform.\n",
    "        \n",
    "    Returns an image with hough lines drawn.\n",
    "    \"\"\"\n",
    "    lines = cv2.HoughLinesP(img, rho, theta, threshold, np.array([]), minLineLength=min_line_len, maxLineGap=max_line_gap)\n",
    "    line_img = np.zeros((*img.shape, 3), dtype=np.uint8)\n",
    "    draw_lines(line_img, lines)\n",
    "    return line_img\n",
    "\n",
    "# Python 3 has support for cool math symbols.\n",
    "\n",
    "def weighted_img(img, initial_img, α=0.8, β=1., λ=0.):\n",
    "    \"\"\"\n",
    "    `img` is the output of the hough_lines(), An image with lines drawn on it.\n",
    "    Should be a blank image (all black) with lines drawn on it.\n",
    "    \n",
    "    `initial_img` should be the image before any processing.\n",
    "    \n",
    "    The result image is computed as follows:\n",
    "    \n",
    "    initial_img * α + img * β + λ\n",
    "    NOTE: initial_img and img must be the same shape!\n",
    "    \"\"\"\n",
    "    return cv2.addWeighted(initial_img, α, img, β, λ)"
   ]
  },
  {
   "cell_type": "markdown",
   "metadata": {},
   "source": [
    "## Test on Images\n",
    "\n",
    "Now you should build your pipeline to work on the images in the directory \"test_images\"  \n",
    "**You should make sure your pipeline works well on these images before you try the videos.**"
   ]
  },
  {
   "cell_type": "code",
   "execution_count": null,
   "metadata": {
    "collapsed": false
   },
   "outputs": [],
   "source": [
    "import os\n",
    "test_images_dir = \"test_images\"\n",
    "os.listdir(test_images_dir)"
   ]
  },
  {
   "cell_type": "markdown",
   "metadata": {},
   "source": [
    "run your solution on all test_images and make copies into the test_images directory)."
   ]
  },
  {
   "cell_type": "code",
   "execution_count": null,
   "metadata": {
    "collapsed": false
   },
   "outputs": [],
   "source": [
    "from scipy import stats\n",
    "from collections import deque\n",
    "\n",
    "buffer_size = 15\n",
    "left_slopes = deque(maxlen=buffer_size)\n",
    "left_intercepts = deque(maxlen=buffer_size)\n",
    "right_slopes = deque(maxlen=buffer_size)\n",
    "right_intercepts = deque(maxlen=buffer_size)\n",
    "\n",
    "def reset_cache():\n",
    "    for _ in range(buffer_size):\n",
    "        left_slopes.append(0)\n",
    "        left_intercepts.append(0)\n",
    "        right_slopes.append(0)\n",
    "        right_intercepts.append(0)\n",
    "\n",
    "# my helper functions\n",
    "\n",
    "def hacked_grayscale(img):\n",
    "    copy_image = np.copy(img)\n",
    "    \n",
    "    # make darkish pixels gray - i combat shadows with this\n",
    "    thresholds = (img[:,:,0] < 150) & \\\n",
    "                 (img[:,:,1] < 150) & \\\n",
    "                 (img[:,:,2] < 150)\n",
    "        \n",
    "    copy_image[thresholds] = [150, 150, 150]\n",
    "\n",
    "    # accent bright pixels - i detect yellow lane on sunlight with this\n",
    "    thresholds = img[:,:,0] > 220\n",
    "    copy_image[thresholds] = [255, 0, 0]\n",
    "    thresholds = img[:,:,1] > 220\n",
    "    copy_image[thresholds] = [0, 255, 0]\n",
    "    thresholds = img[:,:,2] > 220\n",
    "    copy_image[thresholds] = [0, 0, 255]\n",
    "    \n",
    "    return cv2.cvtColor(copy_image, cv2.COLOR_BGR2GRAY)\n",
    "\n",
    "\n",
    "def get_awesome_lines(lines, imshape, horizon_offset):\n",
    "    \"\"\"\"\"\n",
    "    \n",
    "    lines - output of cv2.HoughLinesP\n",
    "    imshape - originalimage shape\n",
    "    horizon_offset - y-coordinate where lane lanes approximately end\n",
    "\n",
    "    Assumptions:\n",
    "     - left lane segments will have positive slope\n",
    "     - right lane segments will have negative slopes\n",
    "     \n",
    "    What we do:\n",
    "     - cluster line segments by slope sign\n",
    "     - fit linear regression to each cluster\n",
    "     - smooth with historic data from previous frames\n",
    "    \"\"\"\n",
    "    \n",
    "    horizon_offset -= 15\n",
    "    \n",
    "    slope_clusters, point_clusters = sign_slope_clustering(lines, imshape)\n",
    "     \n",
    "    slope_left, intercept_left, _, _, _ = stats.linregress([p[0] for p in point_clusters[-1]], \n",
    "                                                           [p[1] for p in point_clusters[-1]])\n",
    "    \n",
    "    left_slopes.append(slope_left)\n",
    "    left_intercepts.append(intercept_left)\n",
    "        \n",
    "    slope_left = np.mean([x for x in left_slopes if x != 0])\n",
    "    intercept_left = np.mean([x for x in left_intercepts if x != 0])\n",
    "            \n",
    "    left_y_bottom = imshape[0] - 1    \n",
    "    left_x_bottom = int((left_y_bottom - intercept_left) / slope_left)\n",
    "    left_y_top = horizon_offset\n",
    "    left_x_top = int((left_y_top - intercept_left) / slope_left)\n",
    "    \n",
    "    slope_right, intercept_right, _, _, _ = stats.linregress([p[0] for p in point_clusters[1]], \n",
    "                                                             [p[1] for p in point_clusters[1]])\n",
    "    \n",
    "    right_slopes.append(slope_right)\n",
    "    right_intercepts.append(intercept_right)\n",
    "    \n",
    "    slope_right = np.mean([x for x in right_slopes if x != 0])\n",
    "    intercept_right = np.mean([x for x in right_intercepts if x != 0])\n",
    "    \n",
    "    right_y_bottom = imshape[0] - 1    \n",
    "    right_x_bottom = int((right_y_bottom - intercept_right) / slope_right)\n",
    "    right_y_top = horizon_offset\n",
    "    right_x_top = int((right_y_top - intercept_right) / slope_right)\n",
    "     \n",
    "    return [[[left_x_bottom, left_y_bottom, left_x_top, left_y_top]],\n",
    "            [[right_x_bottom, right_y_bottom, right_x_top, right_y_top]]]\n",
    "\n",
    "    \n",
    "def sign_slope_clustering(lines, imshape):\n",
    "\n",
    "    slope_clusters = { 1 : [], \n",
    "                      -1 : []}\n",
    "    \n",
    "    point_clusters = { 1 : [],\n",
    "                      -1 : []}\n",
    "    \n",
    "    for line in lines:\n",
    "        x1, y1, x2, y2 = line[0]\n",
    "        \n",
    "        if x1 > x2:\n",
    "            x1, y1, x2, y2 = x2, y2, x1, y1\n",
    "        \n",
    "        if (x1 == x2) or (y1 == y2):\n",
    "            continue    \n",
    "        \n",
    "        slope = (y2 - y1) / (x2 - x1)\n",
    "        slope_sign = np.sign(slope)\n",
    "        \n",
    "        # remove anomalous slopes\n",
    "        if (slope_sign == 1 and (x1 < imshape[1] // 2 or x2 < imshape[1] // 2)) or \\\n",
    "           (slope_sign == -1 and (x1 > imshape[1] // 2 or x2 > imshape[1] // 2)) or \\\n",
    "           not (0.5 < abs(slope) < 0.9):\n",
    "            continue\n",
    "                             \n",
    "        slope_clusters[slope_sign].append(slope)\n",
    "\n",
    "        point_clusters[slope_sign].append((x1, y1))\n",
    "        point_clusters[slope_sign].append((x2, y2))\n",
    "        \n",
    "    return slope_clusters, point_clusters"
   ]
  },
  {
   "cell_type": "code",
   "execution_count": null,
   "metadata": {
    "collapsed": false
   },
   "outputs": [],
   "source": [
    "def get_lane_lines(img):\n",
    "    \"\"\"\n",
    "    Returns img with lane lines highlited as red.\n",
    "    \"\"\"\n",
    "\n",
    "    imshape = img.shape\n",
    "\n",
    "    # gaussian denoising\n",
    "    \n",
    "    img_gauss = gaussian_blur(img, 5)\n",
    "    \n",
    "    # grayscale\n",
    "    \n",
    "    img_gray = hacked_grayscale(img_gauss)\n",
    "            \n",
    "    # canny\n",
    "    \n",
    "    img_canny = canny(img_gray, 50, 150)\n",
    "            \n",
    "    # get region of interest\n",
    "    \n",
    "    bottom_x_offset = 55\n",
    "    middle_y_offset = 75\n",
    "    middle_x_range = 70\n",
    "    \n",
    "    vertices = np.array([[(bottom_x_offset                , imshape[0] - 1), \n",
    "                          (imshape[1] // 2 - middle_x_range, imshape[0] // 2 + middle_y_offset), \n",
    "                          (imshape[1] // 2 + middle_x_range, imshape[0] // 2 + middle_y_offset), \n",
    "                          (imshape[1] - bottom_x_offset   , imshape[0] - 1)]], \n",
    "                        dtype=np.int32)\n",
    "    \n",
    "    img_region = region_of_interest(img_canny, vertices)\n",
    "    \n",
    "    # hough transform\n",
    "    \n",
    "    rho = 2             # distance resolution in pixels of the Hough grid\n",
    "    theta = np.pi / 180 # angular resolution in radians of the Hough grid\n",
    "    threshold = 15      # minimum number of votes (intersections in Hough grid cell)\n",
    "    min_line_len = 15   # minimum number of pixels making up a line\n",
    "    max_line_gap = 30   # maximum gap in pixels between connectable line segments\n",
    "    \n",
    "    lines = cv2.HoughLinesP(img_region, \n",
    "                            rho, \n",
    "                            theta, \n",
    "                            threshold, \n",
    "                            np.array([]), \n",
    "                            minLineLength=min_line_len, \n",
    "                            maxLineGap=max_line_gap)\n",
    "    \n",
    "    # cluster line segments\n",
    "    \n",
    "    lines = get_awesome_lines(lines, imshape, imshape[0] // 2 + middle_y_offset)\n",
    "    \n",
    "    # get line image\n",
    "    \n",
    "    line_img = np.zeros((*img_region.shape, 3), dtype=np.uint8)\n",
    "    draw_lines(line_img, lines, thickness=10)\n",
    "                 \n",
    "    # result!\n",
    "    \n",
    "    return weighted_img(line_img, img)"
   ]
  },
  {
   "cell_type": "code",
   "execution_count": null,
   "metadata": {
    "collapsed": true
   },
   "outputs": [],
   "source": [
    "from PIL import Image\n",
    "def save_image(img_array, filename):\n",
    "    im = Image.fromarray(img_array)\n",
    "    im.save(filename)"
   ]
  },
  {
   "cell_type": "code",
   "execution_count": null,
   "metadata": {
    "collapsed": false
   },
   "outputs": [],
   "source": [
    "for image_file in os.listdir(test_images_dir):  \n",
    "    reset_cache()\n",
    "    name = image_file.partition('.')[0]\n",
    "    image = mpimg.imread(os.path.join(test_images_dir, image_file))\n",
    "    image_with_lane_lines = get_lane_lines(image)\n",
    "    save_image(image_with_lane_lines, os.path.join(test_images_dir, '%s.my.png' % name))"
   ]
  },
  {
   "cell_type": "markdown",
   "metadata": {},
   "source": [
    "## Test on Videos\n",
    "\n",
    "You know what's cooler than drawing lanes over images? Drawing lanes over video!\n",
    "\n",
    "We can test our solution on two provided videos:\n",
    "\n",
    "`solidWhiteRight.mp4`\n",
    "\n",
    "`solidYellowLeft.mp4`"
   ]
  },
  {
   "cell_type": "code",
   "execution_count": null,
   "metadata": {
    "collapsed": false
   },
   "outputs": [],
   "source": [
    "# Import everything needed to edit/save/watch video clips\n",
    "from moviepy.editor import VideoFileClip\n",
    "from IPython.display import HTML"
   ]
  },
  {
   "cell_type": "code",
   "execution_count": null,
   "metadata": {
    "collapsed": true
   },
   "outputs": [],
   "source": [
    "def process_image(image):\n",
    "    # NOTE: The output you return should be a color image (3 channel) for processing video below\n",
    "    # TODO: put your pipeline here,\n",
    "    # you should return the final output (image with lines are drawn on lanes)\n",
    "\n",
    "    result = get_lane_lines(image)\n",
    "    \n",
    "    return result"
   ]
  },
  {
   "cell_type": "markdown",
   "metadata": {},
   "source": [
    "Let's try the one with the solid white lane on the right first ..."
   ]
  },
  {
   "cell_type": "code",
   "execution_count": null,
   "metadata": {
    "collapsed": false
   },
   "outputs": [],
   "source": [
    "reset_cache()\n",
    "white_output = 'white.mp4'\n",
    "clip1 = VideoFileClip(\"solidWhiteRight.mp4\")\n",
    "white_clip = clip1.fl_image(process_image) #NOTE: this function expects color images!!\n",
    "%time white_clip.write_videofile(white_output, audio=False)"
   ]
  },
  {
   "cell_type": "markdown",
   "metadata": {},
   "source": [
    "Play the video inline, or if you prefer find the video in your filesystem (should be in the same directory) and play it in your video player of choice."
   ]
  },
  {
   "cell_type": "code",
   "execution_count": null,
   "metadata": {
    "collapsed": false
   },
   "outputs": [],
   "source": [
    "HTML(\"\"\"\n",
    "<video width=\"960\" height=\"540\" controls>\n",
    "  <source src=\"{0}\">\n",
    "</video>\n",
    "\"\"\".format(white_output))"
   ]
  },
  {
   "cell_type": "markdown",
   "metadata": {},
   "source": [
    "**At this point, if you were successful you probably have the Hough line segments drawn onto the road, but what about identifying the full extent of the lane and marking it clearly as in the example video (P1_example.mp4)?  Think about defining a line to run the full length of the visible lane based on the line segments you identified with the Hough Transform.  Modify your draw_lines function accordingly and try re-running your pipeline.**"
   ]
  },
  {
   "cell_type": "markdown",
   "metadata": {},
   "source": [
    "Now for the one with the solid yellow lane on the left. This one's more tricky!"
   ]
  },
  {
   "cell_type": "code",
   "execution_count": null,
   "metadata": {
    "collapsed": false
   },
   "outputs": [],
   "source": [
    "reset_cache()\n",
    "yellow_output = 'yellow.mp4'\n",
    "clip2 = VideoFileClip('solidYellowLeft.mp4')\n",
    "yellow_clip = clip2.fl_image(process_image)\n",
    "%time yellow_clip.write_videofile(yellow_output, audio=False)"
   ]
  },
  {
   "cell_type": "code",
   "execution_count": null,
   "metadata": {
    "collapsed": false
   },
   "outputs": [],
   "source": [
    "HTML(\"\"\"\n",
    "<video width=\"960\" height=\"540\" controls>\n",
    "  <source src=\"{0}\">\n",
    "</video>\n",
    "\"\"\".format(yellow_output))"
   ]
  },
  {
   "cell_type": "markdown",
   "metadata": {},
   "source": [
    "## Reflections\n",
    "\n",
    "Congratulations on finding the lane lines!  As the final step in this project, we would like you to share your thoughts on your lane finding pipeline... specifically, how could you imagine making your algorithm better / more robust?  Where will your current algorithm be likely to fail?\n",
    "\n",
    "Please add your thoughts below,  and if you're up for making your pipeline more robust, be sure to scroll down and check out the optional challenge video below!\n"
   ]
  },
  {
   "cell_type": "markdown",
   "metadata": {},
   "source": [
    "# My pipeline:\n",
    "\n",
    "First I do pretty strong Gaussian blur. Without it I was very fragile to random white lines which occur in the challenge video.\n",
    "\n",
    "Then I do ugly hacked grayscale conversion. \n",
    "First I make darkish pixels gray - this makes black shadows and gray road much more uniform, so Canny stops detecting edges from shadows.\n",
    "Then I make bright pixels more bright. This helps our yellow line to stand out in the bright sun.\n",
    "Then I do ordinary grayscale conversion.\n",
    "\n",
    "Then ordinary steps from tutorials\n",
    " - canny\n",
    " - region mask\n",
    " - hough transform\n",
    " \n",
    "Then I filter line segments with suspicious slopes. This step is really simple but absolutely crucial for robust performance.\n",
    "\n",
    "Then I cluster line segments by slopes (basically just to separate them into left and right).\n",
    "\n",
    "After that I get two clusters of points - left and right. We need to average them somehow to get one line in each cluster. First I tried to calculate average slope and average point, but it resulted into wigly, dancing lines on the video. I switched to fitting logistic regression.\n",
    "\n",
    "After that I still got slight dancing behaviour on videos. An obvious solution was to average lines over past frames.\n",
    "\n",
    "Assumptions I made:\n",
    "\n",
    "1) I look for straight lines, not curves.\n",
    "\n",
    "2) Each frame must contain at least some line segment on the left, and on the right.\n",
    "\n",
    "3) Camera must be centered. Following from that - if our car will try to change lanes, my algorithm will fail.\n",
    "\n",
    "4) I'm pretty sure my algorithm is fragile with respect to weather. I have a lot of hardcoded constants, a sure sign      of fragility.\n",
    "\n",
    "5) Some random obstacle lying on the road will affect my algorithm.\n",
    "\n",
    "6) If another car will change lanes in front of our car, my algorihtm will fail."
   ]
  },
  {
   "cell_type": "markdown",
   "metadata": {},
   "source": [
    "## Submission\n",
    "\n",
    "If you're satisfied with your video outputs it's time to submit!  Submit this ipython notebook for review.\n"
   ]
  },
  {
   "cell_type": "markdown",
   "metadata": {
    "collapsed": true
   },
   "source": [
    "## Optional Challenge\n",
    "\n",
    "Try your lane finding pipeline on the video below.  Does it still work?  Can you figure out a way to make it more robust?  If you're up for the challenge, modify your pipeline so it works with this video and submit it along with the rest of your project!"
   ]
  },
  {
   "cell_type": "code",
   "execution_count": null,
   "metadata": {
    "collapsed": false
   },
   "outputs": [],
   "source": [
    "reset_cache()\n",
    "challenge_output = 'extra.mp4'\n",
    "clip2 = VideoFileClip('challenge.mp4')\n",
    "challenge_clip = clip2.fl_image(process_image)\n",
    "%time challenge_clip.write_videofile(challenge_output, audio=False)"
   ]
  },
  {
   "cell_type": "code",
   "execution_count": null,
   "metadata": {
    "collapsed": true
   },
   "outputs": [],
   "source": [
    "HTML(\"\"\"\n",
    "<video width=\"960\" height=\"540\" controls>\n",
    "  <source src=\"{0}\">\n",
    "</video>\n",
    "\"\"\".format(challenge_output))"
   ]
  }
 ],
 "metadata": {
  "anaconda-cloud": {},
  "kernelspec": {
   "display_name": "Python 3",
   "language": "python",
   "name": "python3"
  },
  "language_info": {
   "codemirror_mode": {
    "name": "ipython",
    "version": 3
   },
   "file_extension": ".py",
   "mimetype": "text/x-python",
   "name": "python",
   "nbconvert_exporter": "python",
   "pygments_lexer": "ipython3",
   "version": "3.5.2"
  }
 },
 "nbformat": 4,
 "nbformat_minor": 0
}
